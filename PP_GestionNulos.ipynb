{
 "cells": [
  {
   "cell_type": "code",
   "execution_count": 3,
   "metadata": {},
   "outputs": [],
   "source": [
    "# importamos las librerías que necesitamos\n",
    "\n",
    "# Tratamiento de datos\n",
    "# -----------------------------------------------------------------------\n",
    "import pandas as pd\n",
    "import numpy as np\n",
    "\n",
    "# Imputación de nulos usando métodos avanzados estadísticos\n",
    "# -----------------------------------------------------------------------\n",
    "from sklearn.impute import SimpleImputer\n",
    "from sklearn.experimental import enable_iterative_imputer\n",
    "from sklearn.impute import IterativeImputer\n",
    "from sklearn.impute import KNNImputer\n",
    "\n",
    "# Librerías de visualización\n",
    "# -----------------------------------------------------------------------\n",
    "import seaborn as sns\n",
    "import matplotlib.pyplot as plt\n",
    "# Configuración\n",
    "# -----------------------------------------------------------------------\n",
    "pd.set_option('display.max_columns', None) # para poder visualizar todas las columnas de los DataFrames"
   ]
  },
  {
   "cell_type": "markdown",
   "metadata": {},
   "source": [
    "Identificación de Valores Nulos: Identifica todas las columnas que contengan valores nulos en el DataFrame."
   ]
  },
  {
   "cell_type": "code",
   "execution_count": 4,
   "metadata": {},
   "outputs": [
    {
     "data": {
      "text/html": [
       "<div>\n",
       "<style scoped>\n",
       "    .dataframe tbody tr th:only-of-type {\n",
       "        vertical-align: middle;\n",
       "    }\n",
       "\n",
       "    .dataframe tbody tr th {\n",
       "        vertical-align: top;\n",
       "    }\n",
       "\n",
       "    .dataframe thead th {\n",
       "        text-align: right;\n",
       "    }\n",
       "</style>\n",
       "<table border=\"1\" class=\"dataframe\">\n",
       "  <thead>\n",
       "    <tr style=\"text-align: right;\">\n",
       "      <th></th>\n",
       "      <th>country</th>\n",
       "      <th>density</th>\n",
       "      <th>abbreviation</th>\n",
       "      <th>agricultural_land</th>\n",
       "      <th>land_area</th>\n",
       "      <th>armed_forces_size</th>\n",
       "      <th>birth_rate</th>\n",
       "      <th>calling_code</th>\n",
       "      <th>capital/major_city</th>\n",
       "      <th>co2-emissions</th>\n",
       "      <th>cpi</th>\n",
       "      <th>cpi_change</th>\n",
       "      <th>currency-code</th>\n",
       "      <th>fertility_rate</th>\n",
       "      <th>forested_area</th>\n",
       "      <th>gasoline_price</th>\n",
       "      <th>gdp</th>\n",
       "      <th>gross_primary_education_enrollment</th>\n",
       "      <th>gross_tertiary_education_enrollment</th>\n",
       "      <th>infant_mortality</th>\n",
       "      <th>largest_city</th>\n",
       "      <th>life_expectancy</th>\n",
       "      <th>maternal_mortality_ratio</th>\n",
       "      <th>minimum_wage</th>\n",
       "      <th>official_language</th>\n",
       "      <th>out_of_pocket_health_expenditure</th>\n",
       "      <th>physicians_per_thousand</th>\n",
       "      <th>population</th>\n",
       "      <th>population_labor_force_participation</th>\n",
       "      <th>tax_revenue</th>\n",
       "      <th>total_tax_rate</th>\n",
       "      <th>unemployment_rate</th>\n",
       "      <th>urban_population</th>\n",
       "      <th>latitude</th>\n",
       "      <th>longitude</th>\n",
       "      <th>continent</th>\n",
       "    </tr>\n",
       "  </thead>\n",
       "  <tbody>\n",
       "    <tr>\n",
       "      <th>0</th>\n",
       "      <td>Afghanistan</td>\n",
       "      <td>60.0</td>\n",
       "      <td>AF</td>\n",
       "      <td>58.1</td>\n",
       "      <td>652.23</td>\n",
       "      <td>323.0</td>\n",
       "      <td>32.49</td>\n",
       "      <td>93.0</td>\n",
       "      <td>Kabul</td>\n",
       "      <td>8.672</td>\n",
       "      <td>149.9</td>\n",
       "      <td>2.3</td>\n",
       "      <td>AFN</td>\n",
       "      <td>4.47</td>\n",
       "      <td>2.1</td>\n",
       "      <td>0.7</td>\n",
       "      <td>1.910135e+10</td>\n",
       "      <td>104.0</td>\n",
       "      <td>9.7</td>\n",
       "      <td>47.9</td>\n",
       "      <td>Kabul</td>\n",
       "      <td>64.5</td>\n",
       "      <td>638.0</td>\n",
       "      <td>0.43</td>\n",
       "      <td>Pashto</td>\n",
       "      <td>78.4</td>\n",
       "      <td>0.28</td>\n",
       "      <td>NaN</td>\n",
       "      <td>48.9</td>\n",
       "      <td>9.3</td>\n",
       "      <td>71.4</td>\n",
       "      <td>11.12</td>\n",
       "      <td>NaN</td>\n",
       "      <td>33.93911</td>\n",
       "      <td>67.709953</td>\n",
       "      <td>Asia</td>\n",
       "    </tr>\n",
       "  </tbody>\n",
       "</table>\n",
       "</div>"
      ],
      "text/plain": [
       "       country  density abbreviation  agricultural_land  land_area  \\\n",
       "0  Afghanistan     60.0           AF               58.1     652.23   \n",
       "\n",
       "   armed_forces_size  birth_rate  calling_code capital/major_city  \\\n",
       "0              323.0       32.49          93.0              Kabul   \n",
       "\n",
       "   co2-emissions    cpi  cpi_change currency-code  fertility_rate  \\\n",
       "0          8.672  149.9         2.3           AFN            4.47   \n",
       "\n",
       "   forested_area  gasoline_price           gdp  \\\n",
       "0            2.1             0.7  1.910135e+10   \n",
       "\n",
       "   gross_primary_education_enrollment  gross_tertiary_education_enrollment  \\\n",
       "0                               104.0                                  9.7   \n",
       "\n",
       "   infant_mortality largest_city  life_expectancy  maternal_mortality_ratio  \\\n",
       "0              47.9        Kabul             64.5                     638.0   \n",
       "\n",
       "   minimum_wage official_language  out_of_pocket_health_expenditure  \\\n",
       "0          0.43            Pashto                              78.4   \n",
       "\n",
       "   physicians_per_thousand  population  population_labor_force_participation  \\\n",
       "0                     0.28         NaN                                  48.9   \n",
       "\n",
       "   tax_revenue  total_tax_rate  unemployment_rate  urban_population  latitude  \\\n",
       "0          9.3            71.4              11.12               NaN  33.93911   \n",
       "\n",
       "   longitude continent  \n",
       "0  67.709953      Asia  "
      ]
     },
     "execution_count": 4,
     "metadata": {},
     "output_type": "execute_result"
    }
   ],
   "source": [
    "df = pd.read_csv('world_data_full_apply.csv', index_col=0)\n",
    "df.head(1)"
   ]
  },
  {
   "cell_type": "code",
   "execution_count": 9,
   "metadata": {},
   "outputs": [
    {
     "name": "stdout",
     "output_type": "stream",
     "text": [
      "Index(['abbreviation', 'capital/major_city', 'currency-code', 'largest_city',\n",
      "       'official_language', 'continent'],\n",
      "      dtype='object')\n"
     ]
    }
   ],
   "source": [
    "col_nulos_o = df[df.columns[df.isnull().any()]].select_dtypes(include = 'O').columns\n",
    "\n",
    "print(col_nulos_o)\n"
   ]
  },
  {
   "cell_type": "code",
   "execution_count": 10,
   "metadata": {},
   "outputs": [
    {
     "data": {
      "text/plain": [
       "np.float64(3.5897435897435894)"
      ]
     },
     "execution_count": 10,
     "metadata": {},
     "output_type": "execute_result"
    }
   ],
   "source": [
    "# Prueba en pequeñito.\n",
    "nulos_abbrev = df['abbreviation'].isnull().sum()/df.shape[0] * 100\n",
    "nulos_abbrev"
   ]
  },
  {
   "cell_type": "code",
   "execution_count": 11,
   "metadata": {},
   "outputs": [
    {
     "name": "stdout",
     "output_type": "stream",
     "text": [
      "abbreviation: 3.59\n",
      "capital/major_city: 1.54\n",
      "currency-code: 7.69\n",
      "largest_city: 3.08\n",
      "official_language: 2.56\n",
      "continent: 0.51\n"
     ]
    }
   ],
   "source": [
    "# Para saber el % de nulos de cada columna que contiene nulos, hacer bucle for.\n",
    "for col in col_nulos_o:\n",
    "    nullxcolumna = round(df[col].isnull().sum() / df.shape[0] * 100, 2)\n",
    "\n",
    "    print(f'{col}: {nullxcolumna}')"
   ]
  },
  {
   "cell_type": "code",
   "execution_count": 12,
   "metadata": {},
   "outputs": [
    {
     "data": {
      "text/plain": [
       "country                                  0.000000\n",
       "density                                  0.000000\n",
       "abbreviation                             3.589744\n",
       "agricultural_land                        3.589744\n",
       "land_area                               15.384615\n",
       "armed_forces_size                       14.871795\n",
       "birth_rate                               3.076923\n",
       "calling_code                             0.512821\n",
       "capital/major_city                       1.538462\n",
       "co2-emissions                            6.153846\n",
       "cpi                                     10.256410\n",
       "cpi_change                               8.205128\n",
       "currency-code                            7.692308\n",
       "fertility_rate                           3.589744\n",
       "forested_area                            3.589744\n",
       "gasoline_price                          10.256410\n",
       "gdp                                      1.025641\n",
       "gross_primary_education_enrollment       3.589744\n",
       "gross_tertiary_education_enrollment      6.153846\n",
       "infant_mortality                         3.076923\n",
       "largest_city                             3.076923\n",
       "life_expectancy                          4.102564\n",
       "maternal_mortality_ratio                 7.179487\n",
       "minimum_wage                            23.076923\n",
       "official_language                        2.564103\n",
       "out_of_pocket_health_expenditure         3.589744\n",
       "physicians_per_thousand                  3.589744\n",
       "population                              80.000000\n",
       "population_labor_force_participation     9.743590\n",
       "tax_revenue                             13.333333\n",
       "total_tax_rate                           6.153846\n",
       "unemployment_rate                        9.743590\n",
       "urban_population                        76.923077\n",
       "latitude                                 0.512821\n",
       "longitude                                0.512821\n",
       "continent                                0.512821\n",
       "dtype: float64"
      ]
     },
     "execution_count": 12,
     "metadata": {},
     "output_type": "execute_result"
    }
   ],
   "source": [
    "#Este sería para ver los nulos de todo el df.\n",
    "df.isna().sum()/df.shape[0]*100"
   ]
  },
  {
   "cell_type": "code",
   "execution_count": 13,
   "metadata": {},
   "outputs": [
    {
     "name": "stdout",
     "output_type": "stream",
     "text": [
      "% Nulos -- > abbreviation: 3.59\n"
     ]
    },
    {
     "data": {
      "text/plain": [
       "abbreviation\n",
       "AF    0.51\n",
       "PY    0.51\n",
       "NE    0.51\n",
       "NG    0.51\n",
       "KP    0.51\n",
       "      ... \n",
       "GR    0.51\n",
       "GD    0.51\n",
       "GT    0.51\n",
       "GN    0.51\n",
       "ZW    0.51\n",
       "Name: count, Length: 188, dtype: float64"
      ]
     },
     "metadata": {},
     "output_type": "display_data"
    },
    {
     "name": "stdout",
     "output_type": "stream",
     "text": [
      "******************************************************************************************************************************************************************************************************************************************************************************\n",
      "% Nulos -- > capital/major_city: 1.54\n"
     ]
    },
    {
     "data": {
      "text/plain": [
       "capital/major_city\n",
       "Kabul                    0.51\n",
       "Tirana                   0.51\n",
       "Wellington               0.51\n",
       "Managua                  0.51\n",
       "Niamey                   0.51\n",
       "                         ... \n",
       "Athens                   0.51\n",
       "St. George's, Grenada    0.51\n",
       "Guatemala City           0.51\n",
       "Conakry                  0.51\n",
       "Harare                   0.51\n",
       "Name: count, Length: 192, dtype: float64"
      ]
     },
     "metadata": {},
     "output_type": "display_data"
    },
    {
     "name": "stdout",
     "output_type": "stream",
     "text": [
      "******************************************************************************************************************************************************************************************************************************************************************************\n",
      "% Nulos -- > currency-code: 7.69\n"
     ]
    },
    {
     "data": {
      "text/plain": [
       "currency-code\n",
       "EUR    11.79\n",
       "XOF     4.10\n",
       "XCD     3.08\n",
       "USD     3.08\n",
       "XAF     2.56\n",
       "       ...  \n",
       "GMD     0.51\n",
       "FJD     0.51\n",
       "ETB     0.51\n",
       "ERN     0.51\n",
       "ZMW     0.51\n",
       "Name: count, Length: 133, dtype: float64"
      ]
     },
     "metadata": {},
     "output_type": "display_data"
    },
    {
     "name": "stdout",
     "output_type": "stream",
     "text": [
      "******************************************************************************************************************************************************************************************************************************************************************************\n",
      "% Nulos -- > largest_city: 3.08\n"
     ]
    },
    {
     "data": {
      "text/plain": [
       "largest_city\n",
       "S����                    1.03\n",
       "Panama City              0.51\n",
       "Managua                  0.51\n",
       "Niamey                   0.51\n",
       "Lagos                    0.51\n",
       "                         ... \n",
       "Macedonia                0.51\n",
       "St. George's, Grenada    0.51\n",
       "Guatemala City           0.51\n",
       "Kankan                   0.51\n",
       "Harare                   0.51\n",
       "Name: count, Length: 188, dtype: float64"
      ]
     },
     "metadata": {},
     "output_type": "display_data"
    },
    {
     "name": "stdout",
     "output_type": "stream",
     "text": [
      "******************************************************************************************************************************************************************************************************************************************************************************\n",
      "% Nulos -- > official_language: 2.56\n"
     ]
    },
    {
     "data": {
      "text/plain": [
       "official_language\n",
       "English             15.90\n",
       "French              12.82\n",
       "Spanish              9.74\n",
       "Arabic               9.23\n",
       "Portuguese           3.59\n",
       "                    ...  \n",
       "Albanian             0.51\n",
       "Jamaican English     0.51\n",
       "Lao                  0.51\n",
       "Latvian              0.51\n",
       "Shona                0.51\n",
       "Name: count, Length: 76, dtype: float64"
      ]
     },
     "metadata": {},
     "output_type": "display_data"
    },
    {
     "name": "stdout",
     "output_type": "stream",
     "text": [
      "******************************************************************************************************************************************************************************************************************************************************************************\n",
      "% Nulos -- > continent: 0.51\n"
     ]
    },
    {
     "data": {
      "text/plain": [
       "continent\n",
       "Africa             27.18\n",
       "Europe             24.10\n",
       "Asia               23.08\n",
       "Central America    10.26\n",
       "Oceania             7.18\n",
       "South America       6.67\n",
       "North America       1.03\n",
       "Name: count, dtype: float64"
      ]
     },
     "metadata": {},
     "output_type": "display_data"
    },
    {
     "name": "stdout",
     "output_type": "stream",
     "text": [
      "******************************************************************************************************************************************************************************************************************************************************************************\n"
     ]
    }
   ],
   "source": [
    "lista_columnas_o = ['abbreviation', 'capital/major_city', 'currency-code', 'largest_city',\n",
    "       'official_language', 'continent']\n",
    "\n",
    "for col in lista_columnas_o:\n",
    "    nullxcolumna = round(df[col].isnull().sum() / df.shape[0] * 100, 2)\n",
    "    #print('--------'*30)\n",
    "    #for col in lista_columnas_o:\n",
    "    print(f'% Nulos -- > {col}: {nullxcolumna}')\n",
    "    display(round(df[col].value_counts()/df.shape[0] * 100, 2))\n",
    "    print('*********'*30)"
   ]
  },
  {
   "cell_type": "code",
   "execution_count": 14,
   "metadata": {},
   "outputs": [
    {
     "data": {
      "text/plain": [
       "abbreviation          0\n",
       "capital/major_city    0\n",
       "currency-code         0\n",
       "largest_city          0\n",
       "official_language     0\n",
       "continent             0\n",
       "dtype: int64"
      ]
     },
     "execution_count": 14,
     "metadata": {},
     "output_type": "execute_result"
    }
   ],
   "source": [
    "for columna in lista_columnas_o:\n",
    "    df[columna] = df[columna].fillna('Unknown')\n",
    "\n",
    "df[lista_columnas_o].isna().sum()"
   ]
  },
  {
   "cell_type": "markdown",
   "metadata": {},
   "source": [
    "HE MODIFICADO TODAS LAS CATEGÓRICAS CON UNKNOWN AUNQUE HAY VARIAS QUE SE PODRÍAN SACAR Y LIMPIAR: abbreviation - rellenar los faltantes con mapa país. Realmente se podría hacer con todas. De cara al ejercicio de evaluación se añadiría como un comentario, no nos ponemos a buscar los mapas para rellenar los huecos. "
   ]
  },
  {
   "cell_type": "code",
   "execution_count": 15,
   "metadata": {},
   "outputs": [
    {
     "data": {
      "text/html": [
       "<div>\n",
       "<style scoped>\n",
       "    .dataframe tbody tr th:only-of-type {\n",
       "        vertical-align: middle;\n",
       "    }\n",
       "\n",
       "    .dataframe tbody tr th {\n",
       "        vertical-align: top;\n",
       "    }\n",
       "\n",
       "    .dataframe thead th {\n",
       "        text-align: right;\n",
       "    }\n",
       "</style>\n",
       "<table border=\"1\" class=\"dataframe\">\n",
       "  <thead>\n",
       "    <tr style=\"text-align: right;\">\n",
       "      <th></th>\n",
       "      <th>abbreviation</th>\n",
       "      <th>country</th>\n",
       "    </tr>\n",
       "  </thead>\n",
       "  <tbody>\n",
       "    <tr>\n",
       "      <th>82</th>\n",
       "      <td>JO</td>\n",
       "      <td>Jordan</td>\n",
       "    </tr>\n",
       "    <tr>\n",
       "      <th>117</th>\n",
       "      <td>MV</td>\n",
       "      <td>Maldives</td>\n",
       "    </tr>\n",
       "    <tr>\n",
       "      <th>25</th>\n",
       "      <td>BW</td>\n",
       "      <td>Botswana</td>\n",
       "    </tr>\n",
       "    <tr>\n",
       "      <th>138</th>\n",
       "      <td>PW</td>\n",
       "      <td>Palau</td>\n",
       "    </tr>\n",
       "    <tr>\n",
       "      <th>181</th>\n",
       "      <td>VE</td>\n",
       "      <td>Venezuela</td>\n",
       "    </tr>\n",
       "    <tr>\n",
       "      <th>11</th>\n",
       "      <td>BA</td>\n",
       "      <td>Bosnia and Herzegovina</td>\n",
       "    </tr>\n",
       "    <tr>\n",
       "      <th>42</th>\n",
       "      <td>DE</td>\n",
       "      <td>Germany</td>\n",
       "    </tr>\n",
       "    <tr>\n",
       "      <th>171</th>\n",
       "      <td>TT</td>\n",
       "      <td>Trinidad and Tobago</td>\n",
       "    </tr>\n",
       "    <tr>\n",
       "      <th>157</th>\n",
       "      <td>SR</td>\n",
       "      <td>Suriname</td>\n",
       "    </tr>\n",
       "    <tr>\n",
       "      <th>187</th>\n",
       "      <td>ZM</td>\n",
       "      <td>Zambia</td>\n",
       "    </tr>\n",
       "  </tbody>\n",
       "</table>\n",
       "</div>"
      ],
      "text/plain": [
       "    abbreviation                 country\n",
       "82            JO                  Jordan\n",
       "117           MV                Maldives\n",
       "25            BW                Botswana\n",
       "138           PW                   Palau\n",
       "181           VE               Venezuela\n",
       "11            BA  Bosnia and Herzegovina\n",
       "42            DE                 Germany\n",
       "171           TT     Trinidad and Tobago\n",
       "157           SR                Suriname\n",
       "187           ZM                  Zambia"
      ]
     },
     "execution_count": 15,
     "metadata": {},
     "output_type": "execute_result"
    }
   ],
   "source": [
    "df.groupby(['abbreviation'])['country'].sum().reset_index().sample(10)\n"
   ]
  },
  {
   "cell_type": "code",
   "execution_count": 16,
   "metadata": {},
   "outputs": [
    {
     "name": "stdout",
     "output_type": "stream",
     "text": [
      "Index(['agricultural_land', 'land_area', 'armed_forces_size', 'birth_rate',\n",
      "       'calling_code', 'co2-emissions', 'cpi', 'cpi_change', 'fertility_rate',\n",
      "       'forested_area', 'gasoline_price', 'gdp',\n",
      "       'gross_primary_education_enrollment',\n",
      "       'gross_tertiary_education_enrollment', 'infant_mortality',\n",
      "       'life_expectancy', 'maternal_mortality_ratio', 'minimum_wage',\n",
      "       'out_of_pocket_health_expenditure', 'physicians_per_thousand',\n",
      "       'population', 'population_labor_force_participation', 'tax_revenue',\n",
      "       'total_tax_rate', 'unemployment_rate', 'urban_population', 'latitude',\n",
      "       'longitude'],\n",
      "      dtype='object')\n"
     ]
    }
   ],
   "source": [
    "col_nulos_num = df[df.columns[df.isnull().any()]].select_dtypes(include = np.number).columns\n",
    "\n",
    "print(col_nulos_num)"
   ]
  },
  {
   "cell_type": "code",
   "execution_count": 25,
   "metadata": {},
   "outputs": [
    {
     "data": {
      "text/plain": [
       "agricultural_land                        3.589744\n",
       "land_area                               15.384615\n",
       "armed_forces_size                       14.871795\n",
       "birth_rate                               3.076923\n",
       "calling_code                             0.512821\n",
       "co2-emissions                            6.153846\n",
       "cpi                                     10.256410\n",
       "cpi_change                               8.205128\n",
       "fertility_rate                           3.589744\n",
       "forested_area                            3.589744\n",
       "gasoline_price                          10.256410\n",
       "gdp                                      1.025641\n",
       "gross_primary_education_enrollment       3.589744\n",
       "gross_tertiary_education_enrollment      6.153846\n",
       "infant_mortality                         3.076923\n",
       "life_expectancy                          4.102564\n",
       "maternal_mortality_ratio                 7.179487\n",
       "minimum_wage                            23.076923\n",
       "out_of_pocket_health_expenditure         3.589744\n",
       "physicians_per_thousand                  3.589744\n",
       "population                              80.000000\n",
       "population_labor_force_participation     9.743590\n",
       "tax_revenue                             13.333333\n",
       "total_tax_rate                           6.153846\n",
       "unemployment_rate                        9.743590\n",
       "urban_population                        76.923077\n",
       "latitude                                 0.512821\n",
       "longitude                                0.512821\n",
       "dtype: float64"
      ]
     },
     "execution_count": 25,
     "metadata": {},
     "output_type": "execute_result"
    }
   ],
   "source": [
    "df[col_nulos_num].isnull().sum() / df.shape[0]*100\n"
   ]
  },
  {
   "cell_type": "code",
   "execution_count": 26,
   "metadata": {},
   "outputs": [
    {
     "ename": "IndexError",
     "evalue": "index 6 is out of bounds for axis 0 with size 6",
     "output_type": "error",
     "traceback": [
      "\u001b[0;31m---------------------------------------------------------------------------\u001b[0m",
      "\u001b[0;31mIndexError\u001b[0m                                Traceback (most recent call last)",
      "Cell \u001b[0;32mIn[26], line 6\u001b[0m\n\u001b[1;32m      3\u001b[0m axes \u001b[38;5;241m=\u001b[39m axes\u001b[38;5;241m.\u001b[39mflat\n\u001b[1;32m      5\u001b[0m \u001b[38;5;28;01mfor\u001b[39;00m indice, col \u001b[38;5;129;01min\u001b[39;00m \u001b[38;5;28menumerate\u001b[39m(col_nulos_num):\n\u001b[0;32m----> 6\u001b[0m     sns\u001b[38;5;241m.\u001b[39mboxplot(x \u001b[38;5;241m=\u001b[39m col, data \u001b[38;5;241m=\u001b[39m df, ax \u001b[38;5;241m=\u001b[39m \u001b[43maxes\u001b[49m\u001b[43m[\u001b[49m\u001b[43mindice\u001b[49m\u001b[43m]\u001b[49m)\n\u001b[1;32m      8\u001b[0m plt\u001b[38;5;241m.\u001b[39mtight_layout()\n\u001b[1;32m      9\u001b[0m fig\u001b[38;5;241m.\u001b[39mdelaxes(axes[\u001b[38;5;241m-\u001b[39m\u001b[38;5;241m1\u001b[39m]);\n",
      "\u001b[0;31mIndexError\u001b[0m: index 6 is out of bounds for axis 0 with size 6"
     ]
    },
    {
     "data": {
      "image/png": "[encoded data removed]",
      "text/plain": [
       "<Figure size 2000x1000 with 6 Axes>"
      ]
     },
     "metadata": {},
     "output_type": "display_data"
    }
   ],
   "source": [
    "fig, axes = plt.subplots(nrows = 2, ncols = 3, figsize = (20,10)) \n",
    "\n",
    "axes = axes.flat\n",
    "\n",
    "for indice, col in enumerate(col_nulos_num):\n",
    "    sns.boxplot(x = col, data = df, ax = axes[indice])\n",
    "    \n",
    "plt.tight_layout()\n",
    "fig.delaxes(axes[-1]);"
   ]
  }
 ],
 "metadata": {
  "kernelspec": {
   "display_name": "Python 3",
   "language": "python",
   "name": "python3"
  },
  "language_info": {
   "codemirror_mode": {
    "name": "ipython",
    "version": 3
   },
   "file_extension": ".py",
   "mimetype": "text/x-python",
   "name": "python",
   "nbconvert_exporter": "python",
   "pygments_lexer": "ipython3",
   "version": "3.9.6"
  }
 },
 "nbformat": 4,
 "nbformat_minor": 2
}
