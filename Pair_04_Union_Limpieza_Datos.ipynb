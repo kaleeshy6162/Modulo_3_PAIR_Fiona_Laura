{
 "cells": [
  {
   "cell_type": "markdown",
   "metadata": {},
   "source": [
    "# Ejercicios Unión de Datos"
   ]
  },
  {
   "cell_type": "markdown",
   "metadata": {},
   "source": [
    "Para realizar estos ejercicios deberéis usar el conjunto de datos de world-data-2023-part1.csv y el de world-data-2023-part2.csv."
   ]
  },
  {
   "cell_type": "markdown",
   "metadata": {},
   "source": [
    "---"
   ]
  },
  {
   "cell_type": "markdown",
   "metadata": {},
   "source": [
    "Tienes a tu disposición dos conjuntos de datos, \"world-data-2023-part1.csv\" y \"world-data-2023-part2.csv\", que contienen información de una serie de indicadores y datos de distintos países. Tu tarea es explorar estos conjuntos de datos y determinar qué tienen en común en términos de columnas y datos.\n",
    "\n",
    "Luego, debes crear un nuevo DataFrame que combine la información de ambos conjuntos de datos en un solo conjunto de datos. Para hacerlo, debes seleccionar el método de unión de Pandas que consideres más apropiado para esta situación y justificar por qué crees que ese método es el mejor en tu informe.\n",
    "\n",
    "Asegúrate de realizar los siguientes pasos:\n",
    "\n",
    "Explora y carga ambos conjuntos de datos en pandas DataFrames.\n",
    "\n",
    "Identifica las columnas comunes entre los dos conjuntos de datos.\n",
    "\n",
    "Utiliza el método de unión de Pandas que consideres más adecuado para combinar los datos de ambos años en un solo DataFrame.\n",
    "\n",
    "Explica por qué elegiste ese método de unión y cómo se llevaron a cabo los pasos anteriores."
   ]
  },
  {
   "cell_type": "markdown",
   "metadata": {},
   "source": [
    "---"
   ]
  },
  {
   "cell_type": "markdown",
   "metadata": {},
   "source": [
    "## Ejercicios de Limpieza"
   ]
  },
  {
   "cell_type": "markdown",
   "metadata": {},
   "source": [
    "1. Después de la unión de datos, tenemos dos columnas de \"country\". Elimina una de ellas."
   ]
  },
  {
   "cell_type": "code",
   "execution_count": null,
   "metadata": {
    "vscode": {
     "languageId": "plaintext"
    }
   },
   "outputs": [],
   "source": []
  },
  {
   "cell_type": "markdown",
   "metadata": {},
   "source": [
    "2. Los nombres de las columnas no son homogeneos. Cambia los nombres de las columnas de tal forma que:\n",
    "\n",
    "No tengan espacios.\n",
    "\n",
    "Estén en minúscula.\n",
    "\n",
    "No tengan paréntesis, es decir, quitar \"(%)\", \"(Km2)\".\n",
    "\n",
    "Algunas columnas tiene \"\\n\". Eliminalos de los nombres de las columnas.\n",
    "\n",
    "Algunas columnas tienen \":\". Eliminalos de los nombres de las columnas."
   ]
  },
  {
   "cell_type": "code",
   "execution_count": null,
   "metadata": {
    "vscode": {
     "languageId": "plaintext"
    }
   },
   "outputs": [],
   "source": []
  },
  {
   "cell_type": "markdown",
   "metadata": {},
   "source": [
    "3. La columnas coordinates tiene la latitud y la longitud en una sola columna. Crea dos columnas nuevas, una con la longitud y otra con la latitud. Una vez hecho, elimina la columna de coordinates."
   ]
  },
  {
   "cell_type": "code",
   "execution_count": null,
   "metadata": {
    "vscode": {
     "languageId": "plaintext"
    }
   },
   "outputs": [],
   "source": []
  },
  {
   "cell_type": "markdown",
   "metadata": {},
   "source": [
    "4. Las columnas unemployment_rate, total_tax_rate, tax_revenue, population_labor_force_participation, out_of_pocket_health_expenditure, gross_tertiary_education_enrollment, gross_primary_education_enrollment, forested_area, cpi_change, agricultural_land tienen \"%\". Elimina los \"%\" de los valores de las columnas."
   ]
  },
  {
   "cell_type": "code",
   "execution_count": null,
   "metadata": {
    "vscode": {
     "languageId": "plaintext"
    }
   },
   "outputs": [],
   "source": []
  },
  {
   "cell_type": "markdown",
   "metadata": {},
   "source": [
    "5. Haz lo mismo para las columnas de gasoline_price, gdp, minimum_wage, pero eliminando \"$\"."
   ]
  },
  {
   "cell_type": "code",
   "execution_count": null,
   "metadata": {
    "vscode": {
     "languageId": "plaintext"
    }
   },
   "outputs": [],
   "source": []
  },
  {
   "cell_type": "markdown",
   "metadata": {},
   "source": [
    "6. Guarda el DataFrame para usarlo posteriormente."
   ]
  },
  {
   "cell_type": "code",
   "execution_count": null,
   "metadata": {
    "vscode": {
     "languageId": "plaintext"
    }
   },
   "outputs": [],
   "source": []
  },
  {
   "cell_type": "markdown",
   "metadata": {},
   "source": [
    "---"
   ]
  },
  {
   "cell_type": "markdown",
   "metadata": {},
   "source": [
    "## Ejercicios de Filtrado"
   ]
  },
  {
   "cell_type": "markdown",
   "metadata": {},
   "source": [
    "1. Encuentra todos los países cuya mortalidad infantil esté entre 40 y 50 personas por kilómetro cuadrado."
   ]
  },
  {
   "cell_type": "code",
   "execution_count": null,
   "metadata": {
    "vscode": {
     "languageId": "plaintext"
    }
   },
   "outputs": [],
   "source": []
  },
  {
   "cell_type": "markdown",
   "metadata": {},
   "source": [
    "2. Encuentra los países cuyas tasas de natalidad son mayores o iguales a 20 y su esperanza de vida es mayor de 75 años."
   ]
  },
  {
   "cell_type": "code",
   "execution_count": null,
   "metadata": {
    "vscode": {
     "languageId": "plaintext"
    }
   },
   "outputs": [],
   "source": []
  },
  {
   "cell_type": "markdown",
   "metadata": {},
   "source": [
    "3. Encuentra las ciudades cuyos paises contienen la palabra \"la\" en su nombre."
   ]
  },
  {
   "cell_type": "code",
   "execution_count": null,
   "metadata": {
    "vscode": {
     "languageId": "plaintext"
    }
   },
   "outputs": [],
   "source": []
  },
  {
   "cell_type": "markdown",
   "metadata": {},
   "source": [
    "4. Encuentra los países cuyos medicos por cada 1000 habitantes (physicians_per_thousand) sea mayores de 5."
   ]
  },
  {
   "cell_type": "code",
   "execution_count": null,
   "metadata": {
    "vscode": {
     "languageId": "plaintext"
    }
   },
   "outputs": [],
   "source": []
  },
  {
   "cell_type": "markdown",
   "metadata": {},
   "source": [
    "5. Encuentra los países cuyatasa de fertilidad sea mayor a 6."
   ]
  },
  {
   "cell_type": "code",
   "execution_count": null,
   "metadata": {
    "vscode": {
     "languageId": "plaintext"
    }
   },
   "outputs": [],
   "source": []
  },
  {
   "cell_type": "markdown",
   "metadata": {},
   "source": [
    "6. Encuentra los países cuya moneda es el euro (EUR) y tienen una tasa de natalidad superior al promedio."
   ]
  },
  {
   "cell_type": "code",
   "execution_count": null,
   "metadata": {
    "vscode": {
     "languageId": "plaintext"
    }
   },
   "outputs": [],
   "source": []
  },
  {
   "cell_type": "markdown",
   "metadata": {},
   "source": [
    "7. Encuentra los países cuyas tasas de mortalidad infantil son superiores a 70."
   ]
  },
  {
   "cell_type": "code",
   "execution_count": null,
   "metadata": {
    "vscode": {
     "languageId": "plaintext"
    }
   },
   "outputs": [],
   "source": []
  }
 ],
 "metadata": {
  "language_info": {
   "name": "python"
  }
 },
 "nbformat": 4,
 "nbformat_minor": 2
}
