{
 "cells": [
  {
   "cell_type": "code",
   "execution_count": 43,
   "metadata": {},
   "outputs": [],
   "source": [
    "import pandas as pd\n",
    "import numpy as np"
   ]
  },
  {
   "cell_type": "markdown",
   "metadata": {},
   "source": [
    "# Pair Pandas"
   ]
  },
  {
   "cell_type": "markdown",
   "metadata": {},
   "source": [
    "1. ¿Qué diferencia hay entre una Serie y un DataFrame?"
   ]
  },
  {
   "cell_type": "markdown",
   "metadata": {},
   "source": [
    "Característica\t          Serie\t                         DataFrame\n",
    "Dimensiones\t:               1               \t             2\n",
    "Índices\t:               Solo filas                     Filas y columnas\n",
    "Tipo de datos :\t    Un solo tipo por Serie\t    Distintos tipos en diferentes columnas\n",
    "Ejemplo\t:           Columna de una tabla\t            Tabla completa"
   ]
  },
  {
   "cell_type": "markdown",
   "metadata": {},
   "source": [
    "2. Momento de trabajar con Series. Contesta a las siguientes preguntas:\n",
    "\n",
    "Crea dos listas:\n",
    "\n",
    "Una que se llame \"valores\" que tenga 7 números aleatorios.\n",
    "\n",
    "Otra que se llame \"indices\" que tenga 7 strings que se llamen como los días de la semana.\n",
    "\n",
    "A partir de estas dos listas crea una Serie donde la variable \"valores\" sean los valores de la Serie y la variable indices sean los índices de la Serie.\n",
    "\n",
    "A partir de las dos listas anteriores crea un diccionario usando un bucle for. Para hacer esto tenemos el método zip que nos permite iterar por dos listas a la vez. Más informción sobre este método aquí.\n",
    "\n",
    "Crea una Serie con el diccionario creado en el punto anterior.\n",
    "\n",
    "¿Qué forma tiene esta última Serie?\n",
    "\n",
    "¿Qué tipo de datos tiene?\n",
    "\n",
    "¿Qué tamaño tiene?\n",
    "\n",
    "¿Cuáles son los índices de la Serie?\n",
    "\n",
    "¿Y los values?\n",
    "\n",
    "Extrae el valor para el índice \"lunes\"\n",
    "\n",
    "Extrae el valor para el índice \"lunes\", \"martes\" y \"miércoles\".\n",
    "\n",
    "Extrae el valor para el índice \"lunes\" y \"domingo\"."
   ]
  },
  {
   "cell_type": "code",
   "execution_count": 6,
   "metadata": {},
   "outputs": [
    {
     "data": {
      "text/plain": [
       "4         lunes\n",
       "26       martes\n",
       "10    miercoles\n",
       "3        jueves\n",
       "59      viernes\n",
       "12       sabado\n",
       "32      domingo\n",
       "dtype: object"
      ]
     },
     "execution_count": 6,
     "metadata": {},
     "output_type": "execute_result"
    }
   ],
   "source": [
    "#Creamos una lista que se llame \"valores\" que tenga 7 números aleatorios y otra lista que se llame \"indices\" que tenga 7 strings que se llamen como los días de la semana.\n",
    "valores = [4, 26, 10, 3, 59, 12, 32]\n",
    "indices = [\"lunes\", \"martes\", \"miercoles\", \"jueves\", \"viernes\", \"sabado\", \"domingo\"]\n",
    "\n",
    "#Creamos una Serie donde la variable \"valores\" sean los valores de la Serie y la variable indices sean los índices de la Serie.\n",
    "serie_valores = pd.Series(indices, index=valores)\n",
    "serie_valores\n"
   ]
  },
  {
   "cell_type": "code",
   "execution_count": null,
   "metadata": {},
   "outputs": [
    {
     "data": {
      "text/plain": [
       "{4: 'lunes',\n",
       " 26: 'martes',\n",
       " 10: 'miercoles',\n",
       " 3: 'jueves',\n",
       " 59: 'viernes',\n",
       " 12: 'sabado',\n",
       " 32: 'domingo'}"
      ]
     },
     "execution_count": 9,
     "metadata": {},
     "output_type": "execute_result"
    }
   ],
   "source": [
    "#Creamos un diccionario usando un zip y un bucle for:\n",
    "diccionario = {}\n",
    "for valor, indice in zip(valores, indices):\n",
    "    diccionario[valor] = indice\n",
    "\n",
    "diccionario"
   ]
  },
  {
   "cell_type": "code",
   "execution_count": 42,
   "metadata": {},
   "outputs": [
    {
     "name": "stdout",
     "output_type": "stream",
     "text": [
      "4         lunes\n",
      "26       martes\n",
      "10    miercoles\n",
      "3        jueves\n",
      "59      viernes\n",
      "12       sabado\n",
      "32      domingo\n",
      "dtype: object\n",
      "Esta serie tiene una forma de :(7,)\n",
      "Esta serie tiene : object, como tipo de dato.\n",
      "Esta serie tiene un tamaño de : 7\n",
      "Esta serie tiene : Int64Index([4, 26, 10, 3, 59, 12, 32], dtype='int64')\n",
      "Esta serie tiene como valores : ['lunes' 'martes' 'miercoles' 'jueves' 'viernes' 'sabado' 'domingo']\n",
      "lunes\n",
      "4         lunes\n",
      "26       martes\n",
      "10    miercoles\n",
      "dtype: object\n",
      "4       lunes\n",
      "32    domingo\n",
      "dtype: object\n"
     ]
    }
   ],
   "source": [
    "# Creamos una Serie con el diccionario creado en el punto anterior.\n",
    "serie_diccionario = pd.Series(diccionario)\n",
    "print(serie_diccionario)\n",
    "\n",
    "# ¿Qué forma tiene esta última Serie?\n",
    "print(f\"Esta serie tiene una forma de :{serie_diccionario.shape}\")\n",
    "\n",
    "# ¿Qué tipo de datos tiene?\n",
    "print(f\"Esta serie tiene : {serie_diccionario.dtype}, como tipo de dato.\")\n",
    "\n",
    "#¿Qué tamaño tiene?\n",
    "print(f\"Esta serie tiene un tamaño de : {serie_diccionario.size}\")\n",
    "\n",
    "# ¿Cuáles son los índices de la Serie?\n",
    "print(f\"Esta serie tiene : {serie_diccionario.index}\")\n",
    "\n",
    "# ¿Y los values?\n",
    "print(f\"Esta serie tiene como valores : {serie_diccionario.values}\")\n",
    "\n",
    "# Extrae el valor para el índice \"lunes\"\n",
    "print(serie_diccionario[4])\n",
    "\n",
    "# Extrae el valor para el índice \"lunes\", \"martes\" y \"miércoles\".\n",
    "print(serie_diccionario[0:3])\n",
    "\n",
    "# Extrae el valor para el índice \"lunes\" y \"domingo\".\n",
    "print(serie_diccionario[0::6])"
   ]
  },
  {
   "cell_type": "markdown",
   "metadata": {},
   "source": [
    "3. Es el turno de los DataFrames\n",
    "\n",
    "Crea un array de dos dimensiones con 4 filas y 3 columnas.\n",
    "\n",
    "Convierte el array en un DataFrame donde las columnas se llamen \"España\", \"Francia\" e \"Italia\".\n",
    "\n",
    "Descarga el archivo \"medallas\" y carga el DataFrame.\n",
    "\n",
    "Usando el loc extrae todas las columnas de la fila de Tailandia.\n",
    "\n",
    "Usando el loc extrae todas las columnas de China e Irán.\n",
    "\n",
    "Usando el loc extrae solo las columnas de \"Oro\", \"Plata\" y \"Bronce\" de China e Irán.\n",
    "\n",
    "Usando el iloc extrae la información de la India. Devolved todas las columnas.\n",
    "\n",
    "Usando el iloc extrae todas las columnas de los paises que estén en posición impar. La primera que nos tendría que salir es Japón y la última Corea del Norte.\n",
    "\n",
    "Utilizando el código del ejercicio anterior, selecciona unicamente las columnas \"Oro\", \"Plata\" y \"Bronce\".\n",
    "\n",
    "Contesta a las siguientes preguntas:\n",
    "\n",
    "¿Qué país consiguió más de 200 medallas de oro?\n",
    "\n",
    "¿Qué país consiguió más de 200 medallas de oro y más de 1000 de plata?\n",
    "\n",
    "¿Qué país consiguió más de 200 medallas de oro o más de 700 de bronce?\n",
    "\n",
    "Crea una nueva columma que se llame \"total\" que sea el resultado de la suma de todas las medallas obtenidas por cada país."
   ]
  },
  {
   "cell_type": "code",
   "execution_count": null,
   "metadata": {},
   "outputs": [],
   "source": [
    "# Crea un array de dos dimensiones con 4 filas y 3 columnas.\n",
    "array =                          ([[ 1,  2,  3],\n",
    "                                   [ 4,  5,  6],\n",
    "                                   [ 7,  8,  9],\n",
    "                                   [10, 11, 12]])\n"
   ]
  }
 ],
 "metadata": {
  "kernelspec": {
   "display_name": "base",
   "language": "python",
   "name": "python3"
  },
  "language_info": {
   "codemirror_mode": {
    "name": "ipython",
    "version": 3
   },
   "file_extension": ".py",
   "mimetype": "text/x-python",
   "name": "python",
   "nbconvert_exporter": "python",
   "pygments_lexer": "ipython3",
   "version": "3.9.12"
  }
 },
 "nbformat": 4,
 "nbformat_minor": 2
}
